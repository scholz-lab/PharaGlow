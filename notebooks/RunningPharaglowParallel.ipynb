{
 "cells": [
  {
   "cell_type": "markdown",
   "metadata": {},
   "source": [
    "# Run Pharaglow "
   ]
  },
  {
   "cell_type": "code",
   "execution_count": 1,
   "metadata": {},
   "outputs": [],
   "source": [
    "%matplotlib inline\n",
    "import numpy as np\n",
    "import pandas as pd\n",
    "import os\n",
    "import shutil\n",
    "# image io and analysis\n",
    "import json\n",
    "import pims\n",
    "import trackpy as tp\n",
    "\n",
    "# plotting\n",
    "import matplotlib  as mpl \n",
    "import matplotlib.pyplot as plt \n",
    "\n",
    "#our packages\n",
    "from pharaglow import tracking, run, features, util"
   ]
  },
  {
   "cell_type": "markdown",
   "metadata": {},
   "source": [
    "### input parameters"
   ]
  },
  {
   "cell_type": "code",
   "execution_count": 2,
   "metadata": {},
   "outputs": [],
   "source": [
    "### CHANGE FILE/DIRECTORY NAMES\n",
    "# parameterfile = \"../AnalysisParameters_1x\"\n",
    "# inPath = \"/home/mscholz/Dropbox (Scholz Lab)/Shared/Data/MS0006_0_1000frames\"\n",
    "# outPath = \"/home/mscholz/Desktop/TestOutput_MS0006/\"\n",
    "# lawnPath = None #\"/opt/data/Lawns/\"\n",
    "# movie = \"MS0006_0_1000frames\"\n",
    "# nWorkers = 5\n",
    "\n",
    "parameterfile = '/home/ebonnard/Desktop/Elsa/2_PharaGlow/20201217_solenoid_mutants/EB0068/Linking/EB0068_parameters.txt'\n",
    "inPath = '/home/nif/Desktop/data/Elsa/1_Rawdata/20201217_solenoid_mutants/recording/EB0068c/'\n",
    "outPath = f'/home/ebonnard/Desktop/Elsa/2_PharaGlow/20201217_solenoid_mutants/EB0068/test'\n",
    "lawnPath = None #\"/opt/data/Lawns/\"\n",
    "movie = \"EB0068\"\n",
    "nWorkers = 20"
   ]
  },
  {
   "cell_type": "markdown",
   "metadata": {},
   "source": [
    "### Load data and create binary masks "
   ]
  },
  {
   "cell_type": "code",
   "execution_count": 3,
   "metadata": {},
   "outputs": [
    {
     "name": "stdout",
     "output_type": "stream",
     "text": [
      "/home/ebonnard/Desktop/Elsa/2_PharaGlow/20201217_solenoid_mutants/EB0068/test/EB0068_{}_{}.json\n",
      "/home/ebonnard/Desktop/Elsa/2_PharaGlow/20201217_solenoid_mutants/EB0068/test/EB0068_parameters\n",
      "Starting pharaglow analysis...\n",
      "Loading parameters from ['Linking', 'EB0068_parameters.txt']\n",
      "CPU times: user 452 ms, sys: 47 ms, total: 499 ms\n",
      "Wall time: 498 ms\n"
     ]
    }
   ],
   "source": [
    "%%time\n",
    "\n",
    "movieID = movie[-6:]\n",
    "if lawnPath is not None and lawnPath != 'None':\n",
    "    try:\n",
    "        lawnfile = os.path.join(lawnPath,movieID+'_lawn.tiff')\n",
    "        lawn = pims.open(lawnfile)[0]\n",
    "        binLawn = features.findLawn(lawn)\n",
    "    except Exception:\n",
    "        lawnfile = os.path.join(lawnPath,movieID+'_lawn.bmp')\n",
    "        lawn = pims.open(lawnfile)[0]\n",
    "        binLawn = features.findLawn(lawn)\n",
    "else:\n",
    "    lawnfile = None\n",
    "\n",
    "\n",
    "# creating new file names\n",
    "fname = os.path.join(inPath,\"*.tiff\")\n",
    "outfile = os.path.join(outPath, movieID+\"_{}_{}.json\")\n",
    "print(outfile)\n",
    "saveparam = os.path.join(outPath, movieID+\"_parameters\")\n",
    "print(saveparam)\n",
    "\n",
    "# starting pharaglow\n",
    "print('Starting pharaglow analysis...')\n",
    "rawframes = pims.open(fname)\n",
    "rawframes = rawframes\n",
    "# rawframes = rawframes[:300]\n",
    "print('Loading parameters from {}'.format(parameterfile.split('/')[-2:]))\n",
    "with open(parameterfile) as f:\n",
    "    param = json.load(f)\n",
    "    "
   ]
  },
  {
   "cell_type": "markdown",
   "metadata": {},
   "source": [
    "### Improve lawn detection if neccessary"
   ]
  },
  {
   "cell_type": "code",
   "execution_count": 4,
   "metadata": {},
   "outputs": [],
   "source": [
    "if lawnfile is not None:\n",
    "    from skimage.filters import threshold_li, gaussian, threshold_yen, threshold_otsu\n",
    "    from skimage.morphology import skeletonize, watershed, disk, remove_small_holes, remove_small_objects\n",
    "    image = gaussian(lawn, 1, preserve_range = True)\n",
    "    thresh = threshold_li(image, initial_guess = np.median)\n",
    "    binary = image > thresh*0.5\n",
    "    binary = remove_small_holes(binary, area_threshold=1500, connectivity=1, in_place=False)\n",
    "    binary = remove_small_objects(binary, min_size=5000, connectivity=8, in_place=False)\n",
    "    binLawn = binary\n",
    "    plt.figure(figsize=(12,6))\n",
    "    plt.subplot(121)\n",
    "    plt.imshow(lawn)\n",
    "    plt.contour(binLawn, alpha=0.5, cmap='pink')\n",
    "    plt.subplot(122)\n",
    "    plt.imshow(binLawn)"
   ]
  },
  {
   "cell_type": "markdown",
   "metadata": {},
   "source": [
    "### Create binary masks"
   ]
  },
  {
   "cell_type": "code",
   "execution_count": 5,
   "metadata": {},
   "outputs": [
    {
     "name": "stdout",
     "output_type": "stream",
     "text": [
      "Binarizing images\n",
      "CPU times: user 23 s, sys: 1.34 s, total: 24.4 s\n",
      "Wall time: 24.4 s\n"
     ]
    }
   ],
   "source": [
    "%%time\n",
    "# detecting objects\n",
    "print('Binarizing images')\n",
    "masks = tracking.calculateMask(rawframes, minSize = param['minSize'], bgWindow = param['bgWindow']\n",
    "                               , thresholdWindow = param['thresholdWindow'], smooth =  param['smooth'],\n",
    "                               subtract =  param['subtract'], dilate = param['dilate'] , tfactor=param['tfactor'])\n"
   ]
  },
  {
   "cell_type": "markdown",
   "metadata": {},
   "source": [
    "### Make sure the thresholding worked otherwise change parameters"
   ]
  },
  {
   "cell_type": "code",
   "execution_count": 6,
   "metadata": {},
   "outputs": [
    {
     "name": "stdout",
     "output_type": "stream",
     "text": [
      "rawframe 300 to visualize \n"
     ]
    }
   ],
   "source": [
    "# Select a rawframe to visualize\n",
    "t = 300\n",
    "print(f\"rawframe {t} to visualize \")\n",
    "\n",
    "if t> (len(rawframes)-1):\n",
    "    print(f\"Warning ! Max {len(rawframes)-1} rawframes. {t} changed to 0\")\n",
    "    t=0"
   ]
  },
  {
   "cell_type": "code",
   "execution_count": 7,
   "metadata": {},
   "outputs": [
    {
     "data": {
      "text/plain": [
       "<matplotlib.colorbar.Colorbar at 0x7f2100147a10>"
      ]
     },
     "execution_count": 7,
     "metadata": {},
     "output_type": "execute_result"
    },
    {
     "data": {
      "image/png": "[encoded data removed]",
      "text/plain": [
       "<Figure size 1152x576 with 3 Axes>"
      ]
     },
     "metadata": {
      "needs_background": "light"
     },
     "output_type": "display_data"
    }
   ],
   "source": [
    "plt.figure(figsize=(16,8))\n",
    "\n",
    "plt.subplot(121)\n",
    "# Plot the histogram of the pixel intensity values of the rawframe\n",
    "plt.hist(rawframes[t].ravel(), bins=256, log=True)\n",
    "plt.xlim(0, 260) # xlim for 8 bits image\n",
    "\n",
    "plt.subplot(122)\n",
    "# Adjust the color limit for the rawframe for vizualisation only\n",
    "color = (0,60) # 0<=color<=255 for 8 bits image\n",
    "# color = None \n",
    "plt.imshow(rawframes[t],clim = color)\n",
    "plt.colorbar(orientation='horizontal')\n"
   ]
  },
  {
   "cell_type": "code",
   "execution_count": 8,
   "metadata": {},
   "outputs": [
    {
     "name": "stdout",
     "output_type": "stream",
     "text": [
      "False\n"
     ]
    },
    {
     "data": {
      "image/png": "[encoded data removed]",
      "text/plain": [
       "<Figure size 1296x1152 with 2 Axes>"
      ]
     },
     "metadata": {
      "needs_background": "light"
     },
     "output_type": "display_data"
    }
   ],
   "source": [
    "from skimage.measure import label, regionprops\n",
    "\n",
    "plt.figure(figsize=(18,16))\n",
    "\n",
    "plt.subplot(121)\n",
    "# Show the rawframe\n",
    "plt.imshow(rawframes[t],clim= color)#+lawn)\n",
    "if lawnfile is not None:\n",
    "    # Show the lawn\n",
    "    plt.contour(binLawn, alpha=0.5, cmap='pink')\n",
    "    \n",
    "plt.subplot(122)\n",
    "# Show the masks and their size [px]\n",
    "plt.imshow(masks[t])#[:600,1000:])#[500:1500,2000:3500])#[:,2500:])\n",
    "print(np.min(masks[t]))\n",
    "label_image = label(masks[t], background=0, connectivity = 1)\n",
    "for region in regionprops(label_image):\n",
    "    plt.text(region.centroid[1]+50, region.centroid[0], region.area, color ='w')\n"
   ]
  },
  {
   "cell_type": "markdown",
   "metadata": {},
   "source": [
    "### Detecting individual objects and tracking or use multiprocessing to speed up feature detection"
   ]
  },
  {
   "cell_type": "code",
   "execution_count": 9,
   "metadata": {},
   "outputs": [],
   "source": [
    "import time\n",
    "from multiprocessing import Pool\n",
    "\n",
    "chunksize = 100#\n",
    "def parallelDetection(rawframes, masks, nWorkers):\n",
    "    L = len(rawframes)\n",
    "    # create chunks of analysis based on how many workers we use\n",
    "   \n",
    "    #slice the movie into pieces to run\n",
    "    slices = zip((range(0,L, chunksize)), (range(chunksize,L+chunksize+1, chunksize)))\n",
    "    jobs = []\n",
    "    for (a,b) in slices:\n",
    "        jobs.append([rawframes[a:b+1], masks[a:b+1], param, a])\n",
    "    # delete jobs of length 1\n",
    "    jobs = [j for j in jobs if len(j[0])>1]\n",
    "    #run the parallel feature detection.\n",
    "    features = []\n",
    "    images = []\n",
    "    p = Pool(processes = nWorkers)\n",
    "    start = time.time()\n",
    "    for k, res in enumerate(p.imap_unordered(tracking.parallelWorker, jobs)):\n",
    "        features.append(res[0])\n",
    "        images.append(res[1])\n",
    "        if k == nWorkers:\n",
    "            print('Expected time is approx. {} s'.format((L/chunksize-k)*(time.time()-start)/nWorkers))\n",
    "    \n",
    "    p.close()\n",
    "    p.join()\n",
    "    features = pd.concat(features)\n",
    "    images = pd.concat(images)\n",
    "    # make one big dataframe\n",
    "    features = pd.concat([features, images], axis = 1)\n",
    "    return features"
   ]
  },
  {
   "cell_type": "code",
   "execution_count": 10,
   "metadata": {},
   "outputs": [
    {
     "name": "stdout",
     "output_type": "stream",
     "text": [
      "Detecting features\n",
      "Analyzing frames 0 to 101\n",
      "Analyzing frames 100 to 201\n",
      "Analyzing frames 200 to 301\n",
      "Analyzing frames 300 to 401\n",
      "Analyzing frames 400 to 501\n",
      "Analyzing frames 500 to 601\n",
      "Analyzing frames 600 to 701\n",
      "Analyzing frames 700 to 801\n",
      "Analyzing frames 800 to 901\n",
      "Analyzing frames 900 to 1001\n",
      "Analyzing frames 1000 to 1101\n",
      "Analyzing frames 1100 to 1201\n",
      "Analyzing frames 1200 to 1301\n",
      "Analyzing frames 1300 to 1401\n",
      "Analyzing frames 1400 to 1501\n",
      "Analyzing frames 1500 to 1601\n",
      "Analyzing frames 1600 to 1701\n",
      "Analyzing frames 1700 to 1801\n",
      "Analyzing frames 1800 to 1901\n",
      "Analyzing frames 1900 to 2001\n",
      "Analyzing frames 2000 to 2101\n",
      "Expected time is approx. 4479.6712718162535 s\n",
      "Analyzing frames 2100 to 2201\n",
      "Analyzing frames 2200 to 2301\n",
      "Analyzing frames 2300 to 2401\n",
      "Analyzing frames 2400 to 2501\n",
      "Analyzing frames 2500 to 2601\n",
      "Analyzing frames 2600 to 2701\n",
      "Analyzing frames 2700 to 2801\n",
      "Analyzing frames 2800 to 2901\n",
      "Analyzing frames 2900 to 3001\n",
      "Analyzing frames 3000 to 3101\n",
      "Analyzing frames 3100 to 3201\n",
      "Analyzing frames 3200 to 3301\n",
      "Analyzing frames 3300 to 3401\n",
      "Analyzing frames 3400 to 3501\n",
      "Analyzing frames 3500 to 3601\n",
      "Analyzing frames 3600 to 3701\n",
      "Analyzing frames 3700 to 3801\n",
      "Analyzing frames 3800 to 3901\n",
      "Analyzing frames 3900 to 4001\n",
      "Analyzing frames 4000 to 4101\n",
      "Analyzing frames 4100 to 4201\n",
      "Analyzing frames 4200 to 4301\n",
      "Analyzing frames 4300 to 4401\n",
      "Analyzing frames 4400 to 4501\n",
      "Analyzing frames 4500 to 4601\n",
      "Analyzing frames 4600 to 4701\n",
      "Analyzing frames 4700 to 4801\n",
      "Analyzing frames 4800 to 4901\n",
      "Analyzing frames 4900 to 5001\n",
      "Analyzing frames 5000 to 5101\n",
      "Analyzing frames 5100 to 5201\n",
      "Analyzing frames 5200 to 5301\n",
      "Analyzing frames 5300 to 5401\n",
      "Analyzing frames 5400 to 5501\n",
      "Analyzing frames 5500 to 5601\n",
      "Analyzing frames 5600 to 5701\n",
      "Analyzing frames 5700 to 5801\n",
      "Analyzing frames 5800 to 5901\n",
      "Analyzing frames 5900 to 6001\n",
      "Analyzing frames 6000 to 6101\n",
      "Analyzing frames 6100 to 6201\n",
      "Analyzing frames 6200 to 6301\n",
      "Analyzing frames 6300 to 6401\n",
      "Analyzing frames 6400 to 6501\n",
      "Analyzing frames 6500 to 6601\n",
      "Analyzing frames 6600 to 6701\n",
      "Analyzing frames 6700 to 6801\n",
      "Analyzing frames 6800 to 6901\n",
      "Analyzing frames 6900 to 7001\n",
      "Analyzing frames 7000 to 7101\n",
      "Analyzing frames 7100 to 7201\n",
      "Analyzing frames 7200 to 7301\n",
      "Analyzing frames 7300 to 7401\n",
      "Analyzing frames 7400 to 7501\n",
      "Analyzing frames 7500 to 7601\n",
      "Analyzing frames 7600 to 7701\n",
      "Analyzing frames 7700 to 7801\n",
      "Analyzing frames 7800 to 7901\n",
      "Analyzing frames 7900 to 8001\n",
      "Analyzing frames 8000 to 8101\n",
      "Analyzing frames 8100 to 8201\n",
      "Analyzing frames 8200 to 8301\n",
      "Analyzing frames 8300 to 8401\n",
      "Analyzing frames 8400 to 8501\n",
      "Analyzing frames 8500 to 8601\n",
      "Analyzing frames 8600 to 8701\n",
      "Analyzing frames 8700 to 8801\n",
      "Analyzing frames 8800 to 8901\n",
      "Analyzing frames 8900 to 9001\n",
      "Analyzing frames 9000 to 9101\n",
      "Analyzing frames 9100 to 9201\n",
      "Analyzing frames 9200 to 9301\n",
      "Analyzing frames 9300 to 9401\n",
      "Analyzing frames 9400 to 9501\n",
      "Analyzing frames 9500 to 9601\n",
      "Analyzing frames 9600 to 9701\n",
      "Analyzing frames 9700 to 9801\n",
      "Analyzing frames 9800 to 9901\n",
      "Analyzing frames 9900 to 10001\n",
      "Analyzing frames 10000 to 10101\n",
      "Analyzing frames 10100 to 10201\n",
      "Analyzing frames 10200 to 10301\n",
      "Analyzing frames 10300 to 10401\n",
      "Analyzing frames 10400 to 10501\n",
      "Analyzing frames 10500 to 10601\n",
      "Analyzing frames 10600 to 10701\n",
      "Analyzing frames 10700 to 10801\n",
      "Analyzing frames 10800 to 10901\n",
      "Analyzing frames 10900 to 11001\n",
      "Analyzing frames 11000 to 11101\n",
      "Analyzing frames 11100 to 11201\n",
      "Analyzing frames 11200 to 11301\n",
      "Analyzing frames 11300 to 11401\n",
      "Analyzing frames 11400 to 11501\n",
      "Analyzing frames 11500 to 11601\n",
      "Analyzing frames 11600 to 11701\n",
      "Analyzing frames 11700 to 11801\n",
      "Analyzing frames 11800 to 11901\n",
      "Analyzing frames 11900 to 12001\n",
      "Analyzing frames 12000 to 12101\n",
      "Analyzing frames 12100 to 12201\n",
      "Analyzing frames 12200 to 12301\n",
      "Analyzing frames 12300 to 12401\n",
      "Analyzing frames 12400 to 12501\n",
      "Analyzing frames 12500 to 12601\n",
      "Analyzing frames 12600 to 12701\n",
      "Analyzing frames 12700 to 12801\n",
      "Analyzing frames 12800 to 12901\n",
      "Analyzing frames 12900 to 13001\n",
      "Analyzing frames 13000 to 13101\n",
      "Analyzing frames 13100 to 13201\n",
      "Analyzing frames 13200 to 13301\n",
      "Analyzing frames 13300 to 13401\n",
      "Analyzing frames 13400 to 13501\n",
      "Analyzing frames 13500 to 13601\n",
      "Analyzing frames 13600 to 13701\n",
      "Analyzing frames 13700 to 13801\n",
      "Analyzing frames 13800 to 13901\n",
      "Analyzing frames 13900 to 14001\n",
      "Analyzing frames 14000 to 14101\n",
      "Analyzing frames 14100 to 14201\n",
      "Analyzing frames 14200 to 14301\n",
      "Analyzing frames 14300 to 14401\n",
      "Analyzing frames 14400 to 14501\n",
      "Analyzing frames 14500 to 14601\n",
      "Analyzing frames 14600 to 14701\n",
      "Analyzing frames 14700 to 14801\n",
      "Analyzing frames 14800 to 14901\n",
      "Analyzing frames 14900 to 15001\n",
      "Analyzing frames 15000 to 15101\n",
      "Analyzing frames 15100 to 15201\n",
      "Analyzing frames 15200 to 15301\n",
      "Analyzing frames 15300 to 15401\n",
      "Analyzing frames 15400 to 15501\n",
      "Analyzing frames 15500 to 15601\n",
      "Analyzing frames 15600 to 15701\n",
      "Analyzing frames 15700 to 15801\n",
      "Analyzing frames 15800 to 15901\n",
      "Analyzing frames 15900 to 16001\n",
      "Analyzing frames 16000 to 16101\n",
      "Analyzing frames 16100 to 16201\n",
      "Analyzing frames 16200 to 16301\n",
      "Analyzing frames 16300 to 16401\n",
      "Analyzing frames 16400 to 16501\n",
      "Analyzing frames 16500 to 16601\n",
      "Analyzing frames 16600 to 16701\n",
      "Analyzing frames 16700 to 16801\n",
      "Analyzing frames 16800 to 16901\n",
      "Analyzing frames 16900 to 17001\n",
      "Analyzing frames 17000 to 17101\n",
      "Analyzing frames 17100 to 17201\n",
      "Analyzing frames 17200 to 17301\n",
      "Analyzing frames 17300 to 17401\n",
      "Analyzing frames 17400 to 17501\n",
      "Analyzing frames 17500 to 17601\n",
      "Analyzing frames 17600 to 17701\n",
      "Analyzing frames 17700 to 17801\n",
      "Analyzing frames 17800 to 17901\n",
      "Analyzing frames 17900 to 18001\n",
      "Analyzing frames 18000 to 18101\n",
      "Analyzing frames 18100 to 18201\n",
      "Analyzing frames 18200 to 18301\n",
      "Analyzing frames 18300 to 18401\n",
      "Analyzing frames 18400 to 18501\n",
      "Analyzing frames 18500 to 18601\n",
      "Analyzing frames 18600 to 18701\n",
      "Analyzing frames 18700 to 18801\n",
      "Analyzing frames 18800 to 18901\n",
      "Analyzing frames 18900 to 19001\n",
      "Analyzing frames 19000 to 19101\n",
      "Analyzing frames 19100 to 19201\n",
      "Analyzing frames 19200 to 19301\n",
      "Analyzing frames 19300 to 19401\n",
      "Analyzing frames 19400 to 19501\n",
      "Analyzing frames 19500 to 19601\n",
      "Analyzing frames 19600 to 19701\n",
      "Analyzing frames 19700 to 19801\n",
      "Analyzing frames 19800 to 19901\n",
      "Analyzing frames 19900 to 20001\n",
      "Analyzing frames 20000 to 20101\n",
      "Analyzing frames 20100 to 20201\n",
      "Analyzing frames 20200 to 20301\n",
      "Analyzing frames 20300 to 20401\n",
      "Analyzing frames 20400 to 20501\n",
      "Analyzing frames 20500 to 20601\n",
      "Analyzing frames 20600 to 20701\n",
      "Analyzing frames 20700 to 20801\n",
      "Analyzing frames 20800 to 20901\n",
      "Analyzing frames 20900 to 21001\n",
      "Analyzing frames 21000 to 21101\n",
      "Analyzing frames 21100 to 21201\n",
      "Analyzing frames 21200 to 21301\n",
      "Analyzing frames 21300 to 21401\n",
      "Analyzing frames 21400 to 21501\n",
      "Analyzing frames 21500 to 21601\n",
      "Analyzing frames 21600 to 21701\n",
      "Analyzing frames 21700 to 21801\n",
      "Analyzing frames 21800 to 21901\n",
      "Analyzing frames 21900 to 22001\n",
      "Analyzing frames 22000 to 22101\n",
      "Analyzing frames 22100 to 22201\n",
      "Analyzing frames 22200 to 22301\n",
      "Analyzing frames 22300 to 22401\n",
      "Analyzing frames 22400 to 22501\n",
      "Analyzing frames 22500 to 22601\n",
      "Analyzing frames 22600 to 22701\n",
      "Analyzing frames 22700 to 22801\n",
      "Analyzing frames 22800 to 22901\n",
      "Analyzing frames 22900 to 23001\n",
      "Analyzing frames 23000 to 23101\n",
      "Analyzing frames 23100 to 23201\n",
      "Analyzing frames 23200 to 23301\n",
      "Analyzing frames 23300 to 23401\n",
      "Analyzing frames 23400 to 23501\n",
      "Analyzing frames 23500 to 23601\n",
      "Analyzing frames 23600 to 23701\n",
      "Analyzing frames 23700 to 23801\n",
      "Analyzing frames 23800 to 23901\n",
      "Analyzing frames 23900 to 24001\n",
      "Analyzing frames 24000 to 24101\n",
      "Analyzing frames 24100 to 24201\n",
      "Analyzing frames 24200 to 24301\n",
      "Analyzing frames 24300 to 24401\n",
      "Analyzing frames 24400 to 24501\n",
      "Analyzing frames 24500 to 24601\n",
      "Analyzing frames 24600 to 24701\n",
      "Analyzing frames 24700 to 24801\n",
      "Analyzing frames 24800 to 24901\n",
      "Analyzing frames 24900 to 25001\n",
      "Analyzing frames 25000 to 25101\n",
      "Analyzing frames 25100 to 25201\n",
      "Analyzing frames 25200 to 25301\n",
      "Analyzing frames 25300 to 25401\n",
      "Analyzing frames 25400 to 25501\n",
      "Analyzing frames 25500 to 25601\n",
      "Analyzing frames 25600 to 25701\n",
      "Analyzing frames 25700 to 25801\n",
      "Analyzing frames 25800 to 25901\n",
      "Analyzing frames 25900 to 26001\n"
     ]
    },
    {
     "name": "stdout",
     "output_type": "stream",
     "text": [
      "Analyzing frames 26000 to 26101\n",
      "Analyzing frames 26100 to 26201\n",
      "Analyzing frames 26200 to 26301\n",
      "Analyzing frames 26300 to 26401\n",
      "Analyzing frames 26400 to 26501\n",
      "Analyzing frames 26500 to 26601\n",
      "Analyzing frames 26600 to 26701\n",
      "Analyzing frames 26700 to 26801\n",
      "Analyzing frames 26800 to 26901\n",
      "Analyzing frames 26900 to 27001\n",
      "CPU times: user 1h 5min 12s, sys: 3min 27s, total: 1h 8min 40s\n",
      "Wall time: 1h 11min 22s\n"
     ]
    }
   ],
   "source": [
    "%%time\n",
    "\n",
    "print('Detecting features')\n",
    "if nWorkers ==1 or len(rawframes) < chunksize:\n",
    "    features, images = tracking.runfeatureDetection(rawframes, masks, param, frameOffset = 0)\n",
    "    features = pd.concat([features, images], axis = 1)\n",
    "else:\n",
    "    features = parallelDetection(rawframes, masks, nWorkers)"
   ]
  },
  {
   "cell_type": "code",
   "execution_count": 11,
   "metadata": {},
   "outputs": [
    {
     "data": {
      "text/plain": [
       "[<matplotlib.lines.Line2D at 0x7f22aa2c4250>]"
      ]
     },
     "execution_count": 11,
     "metadata": {},
     "output_type": "execute_result"
    },
    {
     "data": {
      "image/png": "[encoded data removed]",
      "text/plain": [
       "<Figure size 432x288 with 1 Axes>"
      ]
     },
     "metadata": {
      "needs_background": "light"
     },
     "output_type": "display_data"
    }
   ],
   "source": [
    "### Show the area of all objects\n",
    "plt.plot(np.sort(features['area'].values))"
   ]
  },
  {
   "cell_type": "markdown",
   "metadata": {},
   "source": [
    "### Save features"
   ]
  },
  {
   "cell_type": "code",
   "execution_count": 12,
   "metadata": {},
   "outputs": [
    {
     "name": "stdout",
     "output_type": "stream",
     "text": [
      "<class 'pandas.core.frame.DataFrame'>\n",
      "Int64Index: 842 entries, 0 to 0\n",
      "Columns: 9282 entries, y to 9269\n",
      "dtypes: float64(7402), int64(1880)\n",
      "memory usage: 59.6 MB\n"
     ]
    },
    {
     "data": {
      "text/plain": [
       "'/home/ebonnard/Desktop/Elsa/2_PharaGlow/20201217_solenoid_mutants/EB0068/test/EB0068_parameters'"
      ]
     },
     "execution_count": 12,
     "metadata": {},
     "output_type": "execute_result"
    }
   ],
   "source": [
    "# # trajectories\n",
    "features.head(5)\n",
    "features.info(memory_usage='deep')\n",
    "features.to_json(outfile.format('features', 'all_2.0'), orient='split')\n",
    "\n",
    "# saving parameter file\n",
    "shutil.copyfile(parameterfile, saveparam, follow_symlinks=True)"
   ]
  },
  {
   "cell_type": "markdown",
   "metadata": {},
   "source": [
    "### Load all features"
   ]
  },
  {
   "cell_type": "code",
   "execution_count": 13,
   "metadata": {},
   "outputs": [],
   "source": [
    "features = pd.read_json(outfile.format('features', 'all_2.0'), orient='split')"
   ]
  },
  {
   "cell_type": "code",
   "execution_count": 15,
   "metadata": {},
   "outputs": [
    {
     "data": {
      "text/plain": [
       "<matplotlib.image.AxesImage at 0x7f22a9d07850>"
      ]
     },
     "execution_count": 15,
     "metadata": {},
     "output_type": "execute_result"
    },
    {
     "data": {
      "image/png": "[encoded data removed]",
      "text/plain": [
       "<Figure size 432x288 with 1 Axes>"
      ]
     },
     "metadata": {
      "needs_background": "light"
     },
     "output_type": "display_data"
    }
   ],
   "source": [
    "### test the new image storageq\n",
    "N=1\n",
    "tim = util.get_im(features.iloc[N], int(features.iloc[N]['shapeX']), int(features.iloc[N]['shapeY']))\n",
    "\n",
    "plt.imshow(tim)"
   ]
  },
  {
   "cell_type": "markdown",
   "metadata": {},
   "source": [
    "### Link objects to trajectories and interpolate short misses"
   ]
  },
  {
   "cell_type": "code",
   "execution_count": 16,
   "metadata": {},
   "outputs": [
    {
     "name": "stdout",
     "output_type": "stream",
     "text": [
      "Frame 25988: 1 trajectories present.\n"
     ]
    }
   ],
   "source": [
    "print('Done')\n",
    "print('Linking trajectories')\n",
    "#pred = tp.predict.NearestVelocityPredict()\n",
    "#trajectories = pred.link_df(features,param['searchRange'], memory = param['memory'])\n",
    "trajectories = tp.link_df(features,param['searchRange'], memory = param['memory'])"
   ]
  },
  {
   "cell_type": "code",
   "execution_count": 17,
   "metadata": {},
   "outputs": [
    {
     "name": "stdout",
     "output_type": "stream",
     "text": [
      "Interpolating trajectories\n"
     ]
    }
   ],
   "source": [
    "print('Interpolating trajectories')\n",
    "traj = []\n",
    "for particle_index in trajectories['particle'].unique():\n",
    "    tmp = trajectories[trajectories.loc[:,'particle'] == particle_index]\n",
    "    # make new columns for the offset\n",
    "    traj.append(tracking.interpolateTrajectories(tmp))\n",
    "trajectories = pd.concat(traj, ignore_index = True)\n",
    "trajectories['shapeX'] = trajectories['shapeX'].astype(int)\n",
    "trajectories['shapeY'] = trajectories['shapeY'].astype(int)"
   ]
  },
  {
   "cell_type": "code",
   "execution_count": 18,
   "metadata": {},
   "outputs": [
    {
     "data": {
      "image/png": "[encoded data removed]",
      "text/plain": [
       "<Figure size 576x576 with 1 Axes>"
      ]
     },
     "metadata": {
      "needs_background": "light"
     },
     "output_type": "display_data"
    }
   ],
   "source": [
    "plt.figure(figsize=(8,8))\n",
    "tp.plot_traj(trajectories, superimpose=1-masks[t]);"
   ]
  },
  {
   "cell_type": "code",
   "execution_count": 19,
   "metadata": {},
   "outputs": [
    {
     "name": "stdout",
     "output_type": "stream",
     "text": [
      "119\n",
      "0\n"
     ]
    }
   ],
   "source": [
    "print(trajectories['particle'].nunique())\n",
    "trajectories = tp.filter_stubs(trajectories,param['minimalDuration'])\n",
    "print(trajectories['particle'].nunique())"
   ]
  },
  {
   "cell_type": "code",
   "execution_count": 20,
   "metadata": {},
   "outputs": [
    {
     "ename": "ValueError",
     "evalue": "DataFrame of trajectories is empty.",
     "output_type": "error",
     "traceback": [
      "\u001b[0;31m---------------------------------------------------------------------------\u001b[0m",
      "\u001b[0;31mValueError\u001b[0m                                Traceback (most recent call last)",
      "\u001b[0;32m<ipython-input-20-5db2d0a03618>\u001b[0m in \u001b[0;36m<module>\u001b[0;34m\u001b[0m\n\u001b[1;32m      1\u001b[0m \u001b[0mplt\u001b[0m\u001b[0;34m.\u001b[0m\u001b[0mfigure\u001b[0m\u001b[0;34m(\u001b[0m\u001b[0mfigsize\u001b[0m\u001b[0;34m=\u001b[0m\u001b[0;34m(\u001b[0m\u001b[0;36m8\u001b[0m\u001b[0;34m,\u001b[0m\u001b[0;36m8\u001b[0m\u001b[0;34m)\u001b[0m\u001b[0;34m)\u001b[0m\u001b[0;34m\u001b[0m\u001b[0;34m\u001b[0m\u001b[0m\n\u001b[0;32m----> 2\u001b[0;31m \u001b[0mtp\u001b[0m\u001b[0;34m.\u001b[0m\u001b[0mplot_traj\u001b[0m\u001b[0;34m(\u001b[0m\u001b[0mtrajectories\u001b[0m\u001b[0;34m,\u001b[0m \u001b[0msuperimpose\u001b[0m\u001b[0;34m=\u001b[0m\u001b[0;36m1\u001b[0m\u001b[0;34m-\u001b[0m\u001b[0mmasks\u001b[0m\u001b[0;34m[\u001b[0m\u001b[0mt\u001b[0m\u001b[0;34m]\u001b[0m\u001b[0;34m)\u001b[0m\u001b[0;34m;\u001b[0m\u001b[0;34m\u001b[0m\u001b[0;34m\u001b[0m\u001b[0m\n\u001b[0m",
      "\u001b[0;32m~/anaconda3/envs/pumping/lib/python3.7/site-packages/trackpy/plots.py\u001b[0m in \u001b[0;36mwrapper\u001b[0;34m(*args, **kwargs)\u001b[0m\n\u001b[1;32m     51\u001b[0m         \u001b[0mlegend\u001b[0m \u001b[0;34m=\u001b[0m \u001b[0mkwargs\u001b[0m\u001b[0;34m.\u001b[0m\u001b[0mpop\u001b[0m\u001b[0;34m(\u001b[0m\u001b[0;34m'legend'\u001b[0m\u001b[0;34m,\u001b[0m \u001b[0;32mFalse\u001b[0m\u001b[0;34m)\u001b[0m\u001b[0;34m\u001b[0m\u001b[0;34m\u001b[0m\u001b[0m\n\u001b[1;32m     52\u001b[0m \u001b[0;34m\u001b[0m\u001b[0m\n\u001b[0;32m---> 53\u001b[0;31m         \u001b[0mresult\u001b[0m \u001b[0;34m=\u001b[0m \u001b[0mfunc\u001b[0m\u001b[0;34m(\u001b[0m\u001b[0;34m*\u001b[0m\u001b[0margs\u001b[0m\u001b[0;34m,\u001b[0m \u001b[0;34m**\u001b[0m\u001b[0mkwargs\u001b[0m\u001b[0;34m)\u001b[0m\u001b[0;34m\u001b[0m\u001b[0;34m\u001b[0m\u001b[0m\n\u001b[0m\u001b[1;32m     54\u001b[0m \u001b[0;34m\u001b[0m\u001b[0m\n\u001b[1;32m     55\u001b[0m         \u001b[0;32mif\u001b[0m \u001b[0mlegend\u001b[0m\u001b[0;34m:\u001b[0m\u001b[0;34m\u001b[0m\u001b[0;34m\u001b[0m\u001b[0m\n",
      "\u001b[0;32m~/anaconda3/envs/pumping/lib/python3.7/site-packages/trackpy/plots.py\u001b[0m in \u001b[0;36mplot_traj\u001b[0;34m(traj, colorby, mpp, label, superimpose, cmap, ax, t_column, pos_columns, plot_style, **kwargs)\u001b[0m\n\u001b[1;32m    312\u001b[0m         \u001b[0mpos_columns\u001b[0m \u001b[0;34m=\u001b[0m \u001b[0;34m[\u001b[0m\u001b[0;34m'x'\u001b[0m\u001b[0;34m,\u001b[0m \u001b[0;34m'y'\u001b[0m\u001b[0;34m]\u001b[0m\u001b[0;34m\u001b[0m\u001b[0;34m\u001b[0m\u001b[0m\n\u001b[1;32m    313\u001b[0m     \u001b[0;32mif\u001b[0m \u001b[0mlen\u001b[0m\u001b[0;34m(\u001b[0m\u001b[0mtraj\u001b[0m\u001b[0;34m)\u001b[0m \u001b[0;34m==\u001b[0m \u001b[0;36m0\u001b[0m\u001b[0;34m:\u001b[0m\u001b[0;34m\u001b[0m\u001b[0;34m\u001b[0m\u001b[0m\n\u001b[0;32m--> 314\u001b[0;31m         \u001b[0;32mraise\u001b[0m \u001b[0mValueError\u001b[0m\u001b[0;34m(\u001b[0m\u001b[0;34m\"DataFrame of trajectories is empty.\"\u001b[0m\u001b[0;34m)\u001b[0m\u001b[0;34m\u001b[0m\u001b[0;34m\u001b[0m\u001b[0m\n\u001b[0m\u001b[1;32m    315\u001b[0m     \u001b[0m_plot_style\u001b[0m \u001b[0;34m=\u001b[0m \u001b[0mdict\u001b[0m\u001b[0;34m(\u001b[0m\u001b[0mlinewidth\u001b[0m\u001b[0;34m=\u001b[0m\u001b[0;36m1\u001b[0m\u001b[0;34m)\u001b[0m\u001b[0;34m\u001b[0m\u001b[0;34m\u001b[0m\u001b[0m\n\u001b[1;32m    316\u001b[0m     \u001b[0m_plot_style\u001b[0m\u001b[0;34m.\u001b[0m\u001b[0mupdate\u001b[0m\u001b[0;34m(\u001b[0m\u001b[0;34m**\u001b[0m\u001b[0m_normalize_kwargs\u001b[0m\u001b[0;34m(\u001b[0m\u001b[0mplot_style\u001b[0m\u001b[0;34m,\u001b[0m \u001b[0;34m'line2d'\u001b[0m\u001b[0;34m)\u001b[0m\u001b[0;34m)\u001b[0m\u001b[0;34m\u001b[0m\u001b[0;34m\u001b[0m\u001b[0m\n",
      "\u001b[0;31mValueError\u001b[0m: DataFrame of trajectories is empty."
     ]
    },
    {
     "data": {
      "image/png": "[encoded data removed]",
      "text/plain": [
       "<Figure size 576x576 with 1 Axes>"
      ]
     },
     "metadata": {
      "needs_background": "light"
     },
     "output_type": "display_data"
    }
   ],
   "source": [
    "plt.figure(figsize=(8,8))\n",
    "tp.plot_traj(trajectories, superimpose=1-masks[t]);"
   ]
  },
  {
   "cell_type": "markdown",
   "metadata": {},
   "source": [
    "### add the missing images to interpolated trajectories"
   ]
  },
  {
   "cell_type": "code",
   "execution_count": null,
   "metadata": {},
   "outputs": [],
   "source": [
    "%%time\n",
    "print('Fill in missing images')\n",
    "from pharaglow import tracking, run, features\n",
    "# interpolate the shape parameter\n",
    "def interpolate_helper(rawframes, row):\n",
    "    \"\"\"wrapper to make the code more readable.\"\"\"\n",
    "    # check if image is nan - then we insert an image from the original movie\n",
    "    im_cols =  range(int(row['shapeX']*row['shapeY']))\n",
    "    \n",
    "    if np.any(np.isnan(row[im_cols])):\n",
    "        print('interpolating', row['frame'])\n",
    "        im, sx0,sx1,sy0, sy1, ly, lx = tracking.fillMissingImages(rawframes, int(row['frame']), row['x'], row['y'],\\\n",
    "                                                   lengthX=row['shapeX'],lengthY=row['shapeY'], size=param['watershed'])\n",
    "        # make the image into a pandas format and return a whole row\n",
    "        im_cols =list(range(ly*lx))\n",
    "        # other column names\n",
    "        [im_cols.append(x) for x in ['slice_x0','slice_x1','slice_y0','slice_y1', 'shapeY', 'shapeX']]\n",
    "        row[im_cols] = [*list(im.ravel()),  sx0,sx1,sy0, sy1, ly, lx]\n",
    "    return row\n",
    "\n",
    "\n",
    "trajectories = trajectories.apply(\\\n",
    "       lambda row: interpolate_helper(rawframes, row), axis=1)\n"
   ]
  },
  {
   "cell_type": "markdown",
   "metadata": {},
   "source": [
    "### Extract lawn info"
   ]
  },
  {
   "cell_type": "code",
   "execution_count": null,
   "metadata": {},
   "outputs": [],
   "source": [
    "%%time\n",
    "\n",
    "def inside(x,y,binLawn):\n",
    "    return binLawn[int(y), int(x)]\n",
    "\n",
    "if lawnfile is not None:\n",
    "    trajectories['inside'] = trajectories.apply(\\\n",
    "        lambda row: pd.Series(inside(row['x'], row['y'], binLawn)), axis=1)"
   ]
  },
  {
   "cell_type": "markdown",
   "metadata": {},
   "source": [
    "### Show resulting trajectories"
   ]
  },
  {
   "cell_type": "code",
   "execution_count": null,
   "metadata": {},
   "outputs": [],
   "source": [
    "plt.figure(figsize=(11,11))\n",
    "tp.plot_traj(trajectories, superimpose=1-masks[t]);"
   ]
  },
  {
   "cell_type": "code",
   "execution_count": null,
   "metadata": {},
   "outputs": [],
   "source": [
    "# # write trajectories to separate files.\n",
    "#trajectories = pd.read_json(outfile.format('trajectories', 'all'), orient='split', numpy = True)\n",
    "for particle_index in trajectories['particle'].unique():\n",
    "    tmp = trajectories[trajectories.loc[:,'particle'] == particle_index]\n",
    "    \n",
    "    # write trajectories to file\n",
    "    tmp.to_json(outfile.format('trajectories_new', int(particle_index)), orient='split')"
   ]
  },
  {
   "cell_type": "markdown",
   "metadata": {},
   "source": [
    "### check slow-down before continuing analysis"
   ]
  },
  {
   "cell_type": "code",
   "execution_count": null,
   "metadata": {},
   "outputs": [],
   "source": [
    "if lawnfile is not None:\n",
    "    plt.figure(figsize=(12,8))\n",
    "    vcut = []\n",
    "    dt = 1000\n",
    "    for pid in trajectories['particle'].unique():\n",
    "        tmp = trajectories[['frame', 'x', 'y']][trajectories.loc[:,'particle'] == pid].diff()\n",
    "        f = (trajectories[['inside']][trajectories.loc[:,'particle'] == pid]).mean().values\n",
    "        if f<0.9 and f>0.01:\n",
    "            t0 = np.where((trajectories[['inside']][trajectories.loc[:,'particle'] == pid])==1)[0][0]\n",
    "            print('t0:', t0)\n",
    "            try:\n",
    "                if t0>dt:\n",
    "                    print('pid:', pid)\n",
    "                    time = np.linspace(0,2*dt/30., 2*dt)\n",
    "                    #print('time:', len(time))\n",
    "                    v = np.sqrt((tmp['x']**2+tmp['y']**2))/tmp['frame']*30*2.4\n",
    "                    #print('v:', v)\n",
    "                    #print('v.iloc:', v.iloc[t0-dt:t0+dt])\n",
    "                    plt.plot(time, v.iloc[t0-dt:t0+dt], 'navy', alpha=0.1)\n",
    "                    vcut.append(v.iloc[t0-dt:t0+dt].values)\n",
    "                else:\n",
    "                    print('trajectory is too short')\n",
    "            except ValueError:\n",
    "                print('t0-dt or t0+dt exceeds number of frames')\n",
    "                continue\n",
    "                    \n",
    "    if len(vcut) >0:  \n",
    "        plt.plot(time, np.mean(np.array(vcut), axis=0), color='navy')\n",
    "        plt.plot(time, util.smooth(np.mean(np.array(vcut), axis=0), 30), color='r')\n",
    "        plt.axvline(dt/30, color='k', linestyle='--')\n",
    "        plt.ylabel(r\"velocity ($\\mu$m/s)\");\n",
    "        plt.xlabel(\"time (s)\");\n",
    "        plt.ylim(0,150)"
   ]
  },
  {
   "cell_type": "markdown",
   "metadata": {},
   "source": [
    "### run the whole pharaglow feature extraction"
   ]
  },
  {
   "cell_type": "code",
   "execution_count": null,
   "metadata": {},
   "outputs": [],
   "source": [
    "from multiprocessing import Pool\n",
    "def parallelize_dataframe(df, func, params, n_cores):\n",
    "    df_split = np.array_split(df, n_cores)\n",
    "    print([len(d) for d in df_split])\n",
    "    pool = Pool(n_cores)\n",
    "    df = pd.concat(pool.starmap(func, zip(df_split, np.repeat(params, len(df_split)))))\n",
    "    pool.close()\n",
    "    pool.join()\n",
    "    return df"
   ]
  },
  {
   "cell_type": "markdown",
   "metadata": {},
   "source": [
    "#### run this if acidentally used an odd length like an idiot."
   ]
  },
  {
   "cell_type": "code",
   "execution_count": null,
   "metadata": {},
   "outputs": [],
   "source": [
    "def padIm(im, size = 22500):\n",
    "    return np.pad(im, (0,size-len(im)), mode='constant', constant_values=0)\n",
    "\n",
    "def fixImages(trajectories):\n",
    "    trajectories[['image']] = trajectories.apply(\\\n",
    "       lambda row: pd.Series(padIm(row['image'], row['shapeX']*row['shapeY'])) if len(row['image'])<row['shapeX']*row['shapeY'] else row['image'], axis=1)\n",
    "    trajectories[['diffI']] = trajectories.apply(\\\n",
    "       lambda row: pd.Series(padIm(row['diffI'], row['shapeX']*row['shapeY'])) if len(row['diffI'])<row['shapeX']*row['shapeY'] else row['diffI'], axis=1)\n"
   ]
  },
  {
   "cell_type": "markdown",
   "metadata": {},
   "source": [
    "### Save data as json format (every trajectory in a file)"
   ]
  },
  {
   "cell_type": "code",
   "execution_count": null,
   "metadata": {},
   "outputs": [],
   "source": [
    "%%time\n",
    "import os\n",
    "# save only minimal outputs - reduces save by approx factor 3\n",
    "save_minimal = False\n",
    "path = os.path.dirname(outfile)\n",
    "for fn in os.listdir(path):\n",
    "    file = os.path.join(path,fn)\n",
    "    print(fn)\n",
    "    if os.path.isfile(file) and f'{movieID}_trajectories_' in fn and fn.endswith('.json'):\n",
    "        print(fn)\n",
    "        particle_index = int(fn.split('.')[0].split('_')[-1])\n",
    "        traj =  pd.read_json(file, orient='split')\n",
    "        # check if the images are non-zero\n",
    "        # get all images\n",
    "        traj['image'] = traj.apply(lambda row: util.get_im(row, int(row['shapeX']), int(row['shapeY'])), axis=1)\n",
    "        if not np.all(np.array([np.sum(im) for im in traj['image']])>0):\n",
    "            continue\n",
    "            \n",
    "        traj['shapeX'] = traj['shapeX'].astype(int)\n",
    "        print('Analyzing trajectory:', fn)\n",
    "        \n",
    "        #tmp = run.runPharaglowOnStack(traj, param)\n",
    "        tmp = parallelize_dataframe(traj, run.runPharaglowOnStack, n_cores = nWorkers, params = param)\n",
    "        # get more exact entry location\n",
    "        if lawnfile is not None:\n",
    "            tmp['insideHead'] = tmp.apply(\\\n",
    "                lambda row: pd.Series(features.headLocationLawn(row['Centerline'],row['slice'], binLawn)), axis=1)\n",
    "            tmp['insideHeadIntensity'] = tmp.apply(\\\n",
    "                lambda row: pd.Series(features.headLocationLawn(row['Centerline'],row['slice'], lawn)), axis=1)\n",
    "        if save_minimal:\n",
    "            tmp = tmp.drop(['Mask', 'SkeletonX', 'SkeletonY', 'ParX', 'ParY', \n",
    "                        'Xstart', 'Xend', 'Centerline', 'dCl', 'Widths', 'Contour', 'Gradient', \n",
    "                        'Kymo', 'KymoGrad', 'Similarity', 'Xtmp'], axis = 1)\n",
    "        tmp = tmp.drop(['image'], axis = 1)\n",
    "        # remove some columns to make the result smaller\n",
    "        tmp.to_json(outfile.format('results', particle_index), orient='split')\n",
    "        "
   ]
  },
  {
   "cell_type": "code",
   "execution_count": null,
   "metadata": {},
   "outputs": [],
   "source": []
  }
 ],
 "metadata": {
  "kernelspec": {
   "display_name": "Python 3",
   "language": "python",
   "name": "python3"
  },
  "language_info": {
   "codemirror_mode": {
    "name": "ipython",
    "version": 3
   },
   "file_extension": ".py",
   "mimetype": "text/x-python",
   "name": "python",
   "nbconvert_exporter": "python",
   "pygments_lexer": "ipython3",
   "version": "3.7.8"
  }
 },
 "nbformat": 4,
 "nbformat_minor": 2
}
